{
 "cells": [
  {
   "cell_type": "code",
   "execution_count": 5,
   "metadata": {},
   "outputs": [],
   "source": [
    "import pandas as pd\n",
    "import numpy as np\n",
    "import csv\n",
    "\n",
    "\n"
   ]
  },
  {
   "cell_type": "code",
   "execution_count": null,
   "metadata": {},
   "outputs": [],
   "source": []
  },
  {
   "cell_type": "code",
   "execution_count": null,
   "metadata": {},
   "outputs": [],
   "source": []
  },
  {
   "cell_type": "code",
   "execution_count": null,
   "metadata": {},
   "outputs": [],
   "source": [
    "df_matchup_2014 is just a dataframe of all the player matchups in 2014\n",
    "\n",
    "losers=df_2014_matchup.groupby('winner_name')['loser_name'].apply(list)\n",
    "losers\n",
    "\n",
    "winners=df_2014_matchup.groupby('loser_name')['winner_name'].apply(list)\n",
    "winners\n",
    "\n",
    "merge_table = pd.DataFrame({'winners':winners, 'losers':losers})\n",
    "merge_table\n",
    "\n",
    "merge_table['combined'] = merge_table['winners'] + merge_table['losers']\n",
    "merge_table\n",
    "\n",
    "merge_table['name'] = merge_table.index\n",
    "merge_table.reset_index(drop=True, inplace=True)\n",
    "merge_table\n",
    "\n",
    "player_one = 'Donald Young'\n",
    "player_two = 'Santiago Giraldo'\n",
    "for i, row in merge_table.iterrows():\n",
    "   if row['name'] == player_one:\n",
    "       player_one_opponents = row['combined']\n",
    "   elif row['name']== player_two:\n",
    "       player_two_opponents = row['combined']\n",
    "print(player_one_opponents)\n",
    "print (player_two_opponents)\n",
    "\n",
    "print(set(player_one_opponents).intersection(player_two_opponents))....this returns a list of the common opponents for Donald and Santiago...."
   ]
  }
 ],
 "metadata": {
  "kernelspec": {
   "display_name": "Python 3",
   "language": "python",
   "name": "python3"
  },
  "language_info": {
   "codemirror_mode": {
    "name": "ipython",
    "version": 3
   },
   "file_extension": ".py",
   "mimetype": "text/x-python",
   "name": "python",
   "nbconvert_exporter": "python",
   "pygments_lexer": "ipython3",
   "version": "3.6.4"
  }
 },
 "nbformat": 4,
 "nbformat_minor": 2
}
